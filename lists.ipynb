{
 "cells": [
  {
   "cell_type": "code",
   "execution_count": 3,
   "metadata": {},
   "outputs": [],
   "source": [
    "#on 21-9-2021 .\n"
   ]
  },
  {
   "cell_type": "markdown",
   "metadata": {},
   "source": [
    "# Append"
   ]
  },
  {
   "cell_type": "code",
   "execution_count": null,
   "metadata": {},
   "outputs": [],
   "source": []
  },
  {
   "cell_type": "code",
   "execution_count": 2,
   "metadata": {},
   "outputs": [
    {
     "data": {
      "text/plain": [
       "['one', 'tow', 'there', 'four']"
      ]
     },
     "execution_count": 2,
     "metadata": {},
     "output_type": "execute_result"
    }
   ],
   "source": [
    "the_list = ['one' , 'tow' , 'there']\n",
    "the_list.append('four')\n",
    "the_list"
   ]
  },
  {
   "cell_type": "markdown",
   "metadata": {},
   "source": [
    "# Extend "
   ]
  },
  {
   "cell_type": "code",
   "execution_count": 6,
   "metadata": {},
   "outputs": [
    {
     "data": {
      "text/plain": [
       "['python', 'php', 'java', 'c', 'c++', 'c']"
      ]
     },
     "execution_count": 6,
     "metadata": {},
     "output_type": "execute_result"
    }
   ],
   "source": [
    "one = ['python' , 'php' , 'java']\n",
    "tow = ['c' , 'c++' , 'c']\n",
    "\n",
    "one.extend(tow)\n",
    "\n",
    "one"
   ]
  },
  {
   "cell_type": "markdown",
   "metadata": {},
   "source": [
    "# Count"
   ]
  },
  {
   "cell_type": "code",
   "execution_count": 8,
   "metadata": {},
   "outputs": [
    {
     "data": {
      "text/plain": [
       "1"
      ]
     },
     "execution_count": 8,
     "metadata": {},
     "output_type": "execute_result"
    }
   ],
   "source": [
    "one = ['python' , 'php' , 'java']\n",
    "\n",
    "x = one.count('java')\n",
    "\n",
    "x"
   ]
  },
  {
   "cell_type": "markdown",
   "metadata": {},
   "source": [
    "# index "
   ]
  },
  {
   "cell_type": "code",
   "execution_count": 10,
   "metadata": {},
   "outputs": [
    {
     "data": {
      "text/plain": [
       "2"
      ]
     },
     "execution_count": 10,
     "metadata": {},
     "output_type": "execute_result"
    }
   ],
   "source": [
    "one = ['python' , 'php' , 'java']\n",
    "\n",
    "y = one.index('java')\n",
    "\n",
    "y"
   ]
  },
  {
   "cell_type": "markdown",
   "metadata": {},
   "source": [
    "# insert "
   ]
  },
  {
   "cell_type": "code",
   "execution_count": 12,
   "metadata": {},
   "outputs": [
    {
     "data": {
      "text/plain": [
       "['ahmad', 'sara', 'mohab', 'saeed', 'Misk']"
      ]
     },
     "execution_count": 12,
     "metadata": {},
     "output_type": "execute_result"
    }
   ],
   "source": [
    "names = ['ahmad' , 'sara' ,'mohab' , 'saeed']\n",
    "\n",
    "names.insert(4 , 'Misk')\n",
    "\n",
    "names"
   ]
  },
  {
   "cell_type": "markdown",
   "metadata": {},
   "source": [
    "# POP "
   ]
  },
  {
   "cell_type": "code",
   "execution_count": 13,
   "metadata": {},
   "outputs": [
    {
     "data": {
      "text/plain": [
       "['ahmad', 'mohab', 'saeed']"
      ]
     },
     "execution_count": 13,
     "metadata": {},
     "output_type": "execute_result"
    }
   ],
   "source": [
    "names = ['ahmad' , 'sara' ,'mohab' , 'saeed']\n",
    "\n",
    "names.pop(1)\n",
    "\n",
    "names"
   ]
  },
  {
   "cell_type": "markdown",
   "metadata": {},
   "source": [
    "# remove "
   ]
  },
  {
   "cell_type": "code",
   "execution_count": 14,
   "metadata": {},
   "outputs": [
    {
     "data": {
      "text/plain": [
       "['sara', 'mohab', 'saeed']"
      ]
     },
     "execution_count": 14,
     "metadata": {},
     "output_type": "execute_result"
    }
   ],
   "source": [
    "names = ['ahmad' , 'sara' ,'mohab' , 'saeed']\n",
    "\n",
    "names.remove('ahmad')\n",
    "\n",
    "names"
   ]
  },
  {
   "cell_type": "markdown",
   "metadata": {},
   "source": [
    "# Reverse "
   ]
  },
  {
   "cell_type": "code",
   "execution_count": 16,
   "metadata": {},
   "outputs": [
    {
     "data": {
      "text/plain": [
       "['saeed', 'mohab', 'sara', 'ahmad']"
      ]
     },
     "execution_count": 16,
     "metadata": {},
     "output_type": "execute_result"
    }
   ],
   "source": [
    "names = ['ahmad' , 'sara' ,'mohab' , 'saeed']\n",
    "names.reverse()\n",
    "names"
   ]
  },
  {
   "cell_type": "markdown",
   "metadata": {},
   "source": [
    "# Sort "
   ]
  },
  {
   "cell_type": "code",
   "execution_count": 18,
   "metadata": {},
   "outputs": [
    {
     "data": {
      "text/plain": [
       "['ahmad', 'mohab', 'saeed', 'sara']"
      ]
     },
     "execution_count": 18,
     "metadata": {},
     "output_type": "execute_result"
    }
   ],
   "source": [
    "names = ['ahmad' , 'sara' ,'mohab' , 'saeed']\n",
    "names.sort()\n",
    "names"
   ]
  },
  {
   "cell_type": "code",
   "execution_count": 19,
   "metadata": {},
   "outputs": [
    {
     "data": {
      "text/plain": [
       "[1, 4, 3]"
      ]
     },
     "execution_count": 19,
     "metadata": {},
     "output_type": "execute_result"
    }
   ],
   "source": [
    "# Assign Varibles\n",
    "\n",
    "x = 1\n",
    "\n",
    "y = 2\n",
    "\n",
    "z = 3\n",
    "\n",
    "list1 = [x,y,z]\n",
    "\n",
    "list2 = list1\n",
    "\n",
    "list2[1] = 4\n",
    "\n",
    "list1\n"
   ]
  },
  {
   "cell_type": "code",
   "execution_count": 17,
   "metadata": {},
   "outputs": [
    {
     "name": "stdout",
     "output_type": "stream",
     "text": [
      "Product: rice price: 10 quantity: 2\n",
      "Product: flour price: 5 quantity: 3\n",
      "Product: corn price: 4 quantity: 2\n"
     ]
    }
   ],
   "source": [
    "items = [['rice' , 10 , 2] , ['flour' , 5 , 3] , ['corn' , 4 , 2]]\n",
    "\n",
    "for item in items :\n",
    "    print(\"Product: %s price: %s quantity: %s\" %(item[0] , item[1] , item[2]))"
   ]
  },
  {
   "cell_type": "code",
   "execution_count": 22,
   "metadata": {},
   "outputs": [
    {
     "name": "stdout",
     "output_type": "stream",
     "text": [
      "The Prices iphone is : iphone8 price company 1700$ price agent : 1800\n",
      "The Prices iphone is : iphone9 price company 1800 price agent : 1900\n",
      "The Prices iphone is : iphone10 price company 1900 price agent : 200\n"
     ]
    }
   ],
   "source": [
    "items = [['iphone8' , '1700$' , 1800] , ['iphone9' , 1800 , 1900] , ['iphone10' , 1900 ,  200]]\n",
    "\n",
    "for item in items:\n",
    "    print(\"The Prices iphone is : %s price company %s price agent : %s\" %(item[0] , item[1] , item[2]))"
   ]
  },
  {
   "cell_type": "code",
   "execution_count": 23,
   "metadata": {},
   "outputs": [
    {
     "data": {
      "text/plain": [
       "2160.0"
      ]
     },
     "execution_count": 23,
     "metadata": {},
     "output_type": "execute_result"
    }
   ],
   "source": [
    "items[1][1] = items[1][1] * 1.2\n",
    "\n",
    "items[1][1]"
   ]
  },
  {
   "cell_type": "code",
   "execution_count": 25,
   "metadata": {},
   "outputs": [
    {
     "name": "stdout",
     "output_type": "stream",
     "text": [
      "8\n",
      "64\n",
      "512\n",
      "4096\n"
     ]
    }
   ],
   "source": [
    "l = [2 , 4 , 8 ,16]\n",
    "\n",
    "for i in l :\n",
    "    \n",
    "    print(i ** 3)"
   ]
  },
  {
   "cell_type": "code",
   "execution_count": 6,
   "metadata": {},
   "outputs": [
    {
     "name": "stdout",
     "output_type": "stream",
     "text": [
      "Hey, Geek!\n"
     ]
    }
   ],
   "source": [
    "# declaring a string variable\n",
    "name = \"Geek\"\n",
    "  \n",
    "# append a string within a string\n",
    "print(\"Hey, %s!\" % name)"
   ]
  },
  {
   "cell_type": "code",
   "execution_count": 9,
   "metadata": {},
   "outputs": [
    {
     "name": "stdout",
     "output_type": "stream",
     "text": [
      "Hey, Geek\n"
     ]
    }
   ],
   "source": [
    "# declaring a string variable\n",
    "name = \"Geek\"\n",
    "  \n",
    "# append a string within a string\n",
    "print(\"Hey, \" + name)"
   ]
  },
  {
   "cell_type": "code",
   "execution_count": 12,
   "metadata": {},
   "outputs": [
    {
     "name": "stdout",
     "output_type": "stream",
     "text": [
      "Hey, Geek!\n"
     ]
    }
   ],
   "source": [
    "# declaring a string variable\n",
    "name = \"Geek\"\n",
    "  \n",
    "# append a string within a string\n",
    "print(\"Hey, %s!\"  % name)"
   ]
  }
 ],
 "metadata": {
  "kernelspec": {
   "display_name": "Python 3",
   "language": "python",
   "name": "python3"
  },
  "language_info": {
   "codemirror_mode": {
    "name": "ipython",
    "version": 3
   },
   "file_extension": ".py",
   "mimetype": "text/x-python",
   "name": "python",
   "nbconvert_exporter": "python",
   "pygments_lexer": "ipython3",
   "version": "3.8.5"
  }
 },
 "nbformat": 4,
 "nbformat_minor": 4
}
